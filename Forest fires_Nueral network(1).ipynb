{
 "cells": [
  {
   "cell_type": "code",
   "execution_count": 1,
   "id": "425e77cc",
   "metadata": {
    "ExecuteTime": {
     "end_time": "2022-11-16T06:00:48.350783Z",
     "start_time": "2022-11-16T06:00:41.132244Z"
    }
   },
   "outputs": [],
   "source": [
    "import pandas as pd\n",
    "import numpy as np\n",
    "from sklearn.model_selection import train_test_split\n",
    "from sklearn.metrics import confusion_matrix\n",
    "from keras.models import Sequential\n",
    "from keras.layers import Dense, Activation,Layer,Lambda\n",
    "import seaborn as sns\n",
    "from sklearn.model_selection import train_test_split\n",
    "from matplotlib import pyplot as plt\n",
    "from sklearn.decomposition import PCA\n",
    "from mlxtend.plotting import plot_decision_regions"
   ]
  },
  {
   "cell_type": "code",
   "execution_count": 2,
   "id": "e29cc1c5",
   "metadata": {
    "ExecuteTime": {
     "end_time": "2022-11-16T06:01:48.438441Z",
     "start_time": "2022-11-16T06:01:48.409526Z"
    }
   },
   "outputs": [],
   "source": [
    "df = pd.read_csv(\"forestfires.csv\")"
   ]
  },
  {
   "cell_type": "code",
   "execution_count": 4,
   "id": "1d46f9a3",
   "metadata": {
    "ExecuteTime": {
     "end_time": "2022-11-16T06:02:34.691147Z",
     "start_time": "2022-11-16T06:02:34.681745Z"
    }
   },
   "outputs": [],
   "source": [
    "Ff = df.copy()"
   ]
  },
  {
   "cell_type": "code",
   "execution_count": 5,
   "id": "e7849d82",
   "metadata": {
    "ExecuteTime": {
     "end_time": "2022-11-16T06:02:40.700274Z",
     "start_time": "2022-11-16T06:02:40.632653Z"
    }
   },
   "outputs": [
    {
     "data": {
      "text/html": [
       "<div>\n",
       "<style scoped>\n",
       "    .dataframe tbody tr th:only-of-type {\n",
       "        vertical-align: middle;\n",
       "    }\n",
       "\n",
       "    .dataframe tbody tr th {\n",
       "        vertical-align: top;\n",
       "    }\n",
       "\n",
       "    .dataframe thead th {\n",
       "        text-align: right;\n",
       "    }\n",
       "</style>\n",
       "<table border=\"1\" class=\"dataframe\">\n",
       "  <thead>\n",
       "    <tr style=\"text-align: right;\">\n",
       "      <th></th>\n",
       "      <th>month</th>\n",
       "      <th>day</th>\n",
       "      <th>FFMC</th>\n",
       "      <th>DMC</th>\n",
       "      <th>DC</th>\n",
       "      <th>ISI</th>\n",
       "      <th>temp</th>\n",
       "      <th>RH</th>\n",
       "      <th>wind</th>\n",
       "      <th>rain</th>\n",
       "      <th>area</th>\n",
       "      <th>dayfri</th>\n",
       "      <th>daymon</th>\n",
       "      <th>daysat</th>\n",
       "      <th>daysun</th>\n",
       "      <th>daythu</th>\n",
       "      <th>daytue</th>\n",
       "      <th>daywed</th>\n",
       "      <th>monthapr</th>\n",
       "      <th>monthaug</th>\n",
       "      <th>monthdec</th>\n",
       "      <th>monthfeb</th>\n",
       "      <th>monthjan</th>\n",
       "      <th>monthjul</th>\n",
       "      <th>monthjun</th>\n",
       "      <th>monthmar</th>\n",
       "      <th>monthmay</th>\n",
       "      <th>monthnov</th>\n",
       "      <th>monthoct</th>\n",
       "      <th>monthsep</th>\n",
       "      <th>size_category</th>\n",
       "    </tr>\n",
       "  </thead>\n",
       "  <tbody>\n",
       "    <tr>\n",
       "      <th>0</th>\n",
       "      <td>mar</td>\n",
       "      <td>fri</td>\n",
       "      <td>86.2</td>\n",
       "      <td>26.2</td>\n",
       "      <td>94.3</td>\n",
       "      <td>5.1</td>\n",
       "      <td>8.2</td>\n",
       "      <td>51</td>\n",
       "      <td>6.7</td>\n",
       "      <td>0.0</td>\n",
       "      <td>0.00</td>\n",
       "      <td>1</td>\n",
       "      <td>0</td>\n",
       "      <td>0</td>\n",
       "      <td>0</td>\n",
       "      <td>0</td>\n",
       "      <td>0</td>\n",
       "      <td>0</td>\n",
       "      <td>0</td>\n",
       "      <td>0</td>\n",
       "      <td>0</td>\n",
       "      <td>0</td>\n",
       "      <td>0</td>\n",
       "      <td>0</td>\n",
       "      <td>0</td>\n",
       "      <td>1</td>\n",
       "      <td>0</td>\n",
       "      <td>0</td>\n",
       "      <td>0</td>\n",
       "      <td>0</td>\n",
       "      <td>small</td>\n",
       "    </tr>\n",
       "    <tr>\n",
       "      <th>1</th>\n",
       "      <td>oct</td>\n",
       "      <td>tue</td>\n",
       "      <td>90.6</td>\n",
       "      <td>35.4</td>\n",
       "      <td>669.1</td>\n",
       "      <td>6.7</td>\n",
       "      <td>18.0</td>\n",
       "      <td>33</td>\n",
       "      <td>0.9</td>\n",
       "      <td>0.0</td>\n",
       "      <td>0.00</td>\n",
       "      <td>0</td>\n",
       "      <td>0</td>\n",
       "      <td>0</td>\n",
       "      <td>0</td>\n",
       "      <td>0</td>\n",
       "      <td>1</td>\n",
       "      <td>0</td>\n",
       "      <td>0</td>\n",
       "      <td>0</td>\n",
       "      <td>0</td>\n",
       "      <td>0</td>\n",
       "      <td>0</td>\n",
       "      <td>0</td>\n",
       "      <td>0</td>\n",
       "      <td>0</td>\n",
       "      <td>0</td>\n",
       "      <td>0</td>\n",
       "      <td>1</td>\n",
       "      <td>0</td>\n",
       "      <td>small</td>\n",
       "    </tr>\n",
       "    <tr>\n",
       "      <th>2</th>\n",
       "      <td>oct</td>\n",
       "      <td>sat</td>\n",
       "      <td>90.6</td>\n",
       "      <td>43.7</td>\n",
       "      <td>686.9</td>\n",
       "      <td>6.7</td>\n",
       "      <td>14.6</td>\n",
       "      <td>33</td>\n",
       "      <td>1.3</td>\n",
       "      <td>0.0</td>\n",
       "      <td>0.00</td>\n",
       "      <td>0</td>\n",
       "      <td>0</td>\n",
       "      <td>1</td>\n",
       "      <td>0</td>\n",
       "      <td>0</td>\n",
       "      <td>0</td>\n",
       "      <td>0</td>\n",
       "      <td>0</td>\n",
       "      <td>0</td>\n",
       "      <td>0</td>\n",
       "      <td>0</td>\n",
       "      <td>0</td>\n",
       "      <td>0</td>\n",
       "      <td>0</td>\n",
       "      <td>0</td>\n",
       "      <td>0</td>\n",
       "      <td>0</td>\n",
       "      <td>1</td>\n",
       "      <td>0</td>\n",
       "      <td>small</td>\n",
       "    </tr>\n",
       "    <tr>\n",
       "      <th>3</th>\n",
       "      <td>mar</td>\n",
       "      <td>fri</td>\n",
       "      <td>91.7</td>\n",
       "      <td>33.3</td>\n",
       "      <td>77.5</td>\n",
       "      <td>9.0</td>\n",
       "      <td>8.3</td>\n",
       "      <td>97</td>\n",
       "      <td>4.0</td>\n",
       "      <td>0.2</td>\n",
       "      <td>0.00</td>\n",
       "      <td>1</td>\n",
       "      <td>0</td>\n",
       "      <td>0</td>\n",
       "      <td>0</td>\n",
       "      <td>0</td>\n",
       "      <td>0</td>\n",
       "      <td>0</td>\n",
       "      <td>0</td>\n",
       "      <td>0</td>\n",
       "      <td>0</td>\n",
       "      <td>0</td>\n",
       "      <td>0</td>\n",
       "      <td>0</td>\n",
       "      <td>0</td>\n",
       "      <td>1</td>\n",
       "      <td>0</td>\n",
       "      <td>0</td>\n",
       "      <td>0</td>\n",
       "      <td>0</td>\n",
       "      <td>small</td>\n",
       "    </tr>\n",
       "    <tr>\n",
       "      <th>4</th>\n",
       "      <td>mar</td>\n",
       "      <td>sun</td>\n",
       "      <td>89.3</td>\n",
       "      <td>51.3</td>\n",
       "      <td>102.2</td>\n",
       "      <td>9.6</td>\n",
       "      <td>11.4</td>\n",
       "      <td>99</td>\n",
       "      <td>1.8</td>\n",
       "      <td>0.0</td>\n",
       "      <td>0.00</td>\n",
       "      <td>0</td>\n",
       "      <td>0</td>\n",
       "      <td>0</td>\n",
       "      <td>1</td>\n",
       "      <td>0</td>\n",
       "      <td>0</td>\n",
       "      <td>0</td>\n",
       "      <td>0</td>\n",
       "      <td>0</td>\n",
       "      <td>0</td>\n",
       "      <td>0</td>\n",
       "      <td>0</td>\n",
       "      <td>0</td>\n",
       "      <td>0</td>\n",
       "      <td>1</td>\n",
       "      <td>0</td>\n",
       "      <td>0</td>\n",
       "      <td>0</td>\n",
       "      <td>0</td>\n",
       "      <td>small</td>\n",
       "    </tr>\n",
       "    <tr>\n",
       "      <th>...</th>\n",
       "      <td>...</td>\n",
       "      <td>...</td>\n",
       "      <td>...</td>\n",
       "      <td>...</td>\n",
       "      <td>...</td>\n",
       "      <td>...</td>\n",
       "      <td>...</td>\n",
       "      <td>...</td>\n",
       "      <td>...</td>\n",
       "      <td>...</td>\n",
       "      <td>...</td>\n",
       "      <td>...</td>\n",
       "      <td>...</td>\n",
       "      <td>...</td>\n",
       "      <td>...</td>\n",
       "      <td>...</td>\n",
       "      <td>...</td>\n",
       "      <td>...</td>\n",
       "      <td>...</td>\n",
       "      <td>...</td>\n",
       "      <td>...</td>\n",
       "      <td>...</td>\n",
       "      <td>...</td>\n",
       "      <td>...</td>\n",
       "      <td>...</td>\n",
       "      <td>...</td>\n",
       "      <td>...</td>\n",
       "      <td>...</td>\n",
       "      <td>...</td>\n",
       "      <td>...</td>\n",
       "      <td>...</td>\n",
       "    </tr>\n",
       "    <tr>\n",
       "      <th>512</th>\n",
       "      <td>aug</td>\n",
       "      <td>sun</td>\n",
       "      <td>81.6</td>\n",
       "      <td>56.7</td>\n",
       "      <td>665.6</td>\n",
       "      <td>1.9</td>\n",
       "      <td>27.8</td>\n",
       "      <td>32</td>\n",
       "      <td>2.7</td>\n",
       "      <td>0.0</td>\n",
       "      <td>6.44</td>\n",
       "      <td>0</td>\n",
       "      <td>0</td>\n",
       "      <td>0</td>\n",
       "      <td>1</td>\n",
       "      <td>0</td>\n",
       "      <td>0</td>\n",
       "      <td>0</td>\n",
       "      <td>0</td>\n",
       "      <td>1</td>\n",
       "      <td>0</td>\n",
       "      <td>0</td>\n",
       "      <td>0</td>\n",
       "      <td>0</td>\n",
       "      <td>0</td>\n",
       "      <td>0</td>\n",
       "      <td>0</td>\n",
       "      <td>0</td>\n",
       "      <td>0</td>\n",
       "      <td>0</td>\n",
       "      <td>large</td>\n",
       "    </tr>\n",
       "    <tr>\n",
       "      <th>513</th>\n",
       "      <td>aug</td>\n",
       "      <td>sun</td>\n",
       "      <td>81.6</td>\n",
       "      <td>56.7</td>\n",
       "      <td>665.6</td>\n",
       "      <td>1.9</td>\n",
       "      <td>21.9</td>\n",
       "      <td>71</td>\n",
       "      <td>5.8</td>\n",
       "      <td>0.0</td>\n",
       "      <td>54.29</td>\n",
       "      <td>0</td>\n",
       "      <td>0</td>\n",
       "      <td>0</td>\n",
       "      <td>1</td>\n",
       "      <td>0</td>\n",
       "      <td>0</td>\n",
       "      <td>0</td>\n",
       "      <td>0</td>\n",
       "      <td>1</td>\n",
       "      <td>0</td>\n",
       "      <td>0</td>\n",
       "      <td>0</td>\n",
       "      <td>0</td>\n",
       "      <td>0</td>\n",
       "      <td>0</td>\n",
       "      <td>0</td>\n",
       "      <td>0</td>\n",
       "      <td>0</td>\n",
       "      <td>0</td>\n",
       "      <td>large</td>\n",
       "    </tr>\n",
       "    <tr>\n",
       "      <th>514</th>\n",
       "      <td>aug</td>\n",
       "      <td>sun</td>\n",
       "      <td>81.6</td>\n",
       "      <td>56.7</td>\n",
       "      <td>665.6</td>\n",
       "      <td>1.9</td>\n",
       "      <td>21.2</td>\n",
       "      <td>70</td>\n",
       "      <td>6.7</td>\n",
       "      <td>0.0</td>\n",
       "      <td>11.16</td>\n",
       "      <td>0</td>\n",
       "      <td>0</td>\n",
       "      <td>0</td>\n",
       "      <td>1</td>\n",
       "      <td>0</td>\n",
       "      <td>0</td>\n",
       "      <td>0</td>\n",
       "      <td>0</td>\n",
       "      <td>1</td>\n",
       "      <td>0</td>\n",
       "      <td>0</td>\n",
       "      <td>0</td>\n",
       "      <td>0</td>\n",
       "      <td>0</td>\n",
       "      <td>0</td>\n",
       "      <td>0</td>\n",
       "      <td>0</td>\n",
       "      <td>0</td>\n",
       "      <td>0</td>\n",
       "      <td>large</td>\n",
       "    </tr>\n",
       "    <tr>\n",
       "      <th>515</th>\n",
       "      <td>aug</td>\n",
       "      <td>sat</td>\n",
       "      <td>94.4</td>\n",
       "      <td>146.0</td>\n",
       "      <td>614.7</td>\n",
       "      <td>11.3</td>\n",
       "      <td>25.6</td>\n",
       "      <td>42</td>\n",
       "      <td>4.0</td>\n",
       "      <td>0.0</td>\n",
       "      <td>0.00</td>\n",
       "      <td>0</td>\n",
       "      <td>0</td>\n",
       "      <td>1</td>\n",
       "      <td>0</td>\n",
       "      <td>0</td>\n",
       "      <td>0</td>\n",
       "      <td>0</td>\n",
       "      <td>0</td>\n",
       "      <td>1</td>\n",
       "      <td>0</td>\n",
       "      <td>0</td>\n",
       "      <td>0</td>\n",
       "      <td>0</td>\n",
       "      <td>0</td>\n",
       "      <td>0</td>\n",
       "      <td>0</td>\n",
       "      <td>0</td>\n",
       "      <td>0</td>\n",
       "      <td>0</td>\n",
       "      <td>small</td>\n",
       "    </tr>\n",
       "    <tr>\n",
       "      <th>516</th>\n",
       "      <td>nov</td>\n",
       "      <td>tue</td>\n",
       "      <td>79.5</td>\n",
       "      <td>3.0</td>\n",
       "      <td>106.7</td>\n",
       "      <td>1.1</td>\n",
       "      <td>11.8</td>\n",
       "      <td>31</td>\n",
       "      <td>4.5</td>\n",
       "      <td>0.0</td>\n",
       "      <td>0.00</td>\n",
       "      <td>0</td>\n",
       "      <td>0</td>\n",
       "      <td>0</td>\n",
       "      <td>0</td>\n",
       "      <td>0</td>\n",
       "      <td>1</td>\n",
       "      <td>0</td>\n",
       "      <td>0</td>\n",
       "      <td>0</td>\n",
       "      <td>0</td>\n",
       "      <td>0</td>\n",
       "      <td>0</td>\n",
       "      <td>0</td>\n",
       "      <td>0</td>\n",
       "      <td>0</td>\n",
       "      <td>0</td>\n",
       "      <td>1</td>\n",
       "      <td>0</td>\n",
       "      <td>0</td>\n",
       "      <td>small</td>\n",
       "    </tr>\n",
       "  </tbody>\n",
       "</table>\n",
       "<p>517 rows × 31 columns</p>\n",
       "</div>"
      ],
      "text/plain": [
       "    month  day  FFMC    DMC     DC   ISI  ...  monthmar  monthmay  monthnov  monthoct  monthsep  size_category\n",
       "0     mar  fri  86.2   26.2   94.3   5.1  ...         1         0         0         0         0          small\n",
       "1     oct  tue  90.6   35.4  669.1   6.7  ...         0         0         0         1         0          small\n",
       "2     oct  sat  90.6   43.7  686.9   6.7  ...         0         0         0         1         0          small\n",
       "3     mar  fri  91.7   33.3   77.5   9.0  ...         1         0         0         0         0          small\n",
       "4     mar  sun  89.3   51.3  102.2   9.6  ...         1         0         0         0         0          small\n",
       "..    ...  ...   ...    ...    ...   ...  ...       ...       ...       ...       ...       ...            ...\n",
       "512   aug  sun  81.6   56.7  665.6   1.9  ...         0         0         0         0         0          large\n",
       "513   aug  sun  81.6   56.7  665.6   1.9  ...         0         0         0         0         0          large\n",
       "514   aug  sun  81.6   56.7  665.6   1.9  ...         0         0         0         0         0          large\n",
       "515   aug  sat  94.4  146.0  614.7  11.3  ...         0         0         0         0         0          small\n",
       "516   nov  tue  79.5    3.0  106.7   1.1  ...         0         0         1         0         0          small\n",
       "\n",
       "[517 rows x 31 columns]"
      ]
     },
     "execution_count": 5,
     "metadata": {},
     "output_type": "execute_result"
    }
   ],
   "source": [
    "Ff"
   ]
  },
  {
   "cell_type": "code",
   "execution_count": 6,
   "id": "4a633e24",
   "metadata": {
    "ExecuteTime": {
     "end_time": "2022-11-16T06:03:32.430347Z",
     "start_time": "2022-11-16T06:03:32.416475Z"
    }
   },
   "outputs": [],
   "source": [
    "Ff.drop([\"month\",\"day\"],axis=1,inplace = True)"
   ]
  },
  {
   "cell_type": "code",
   "execution_count": 7,
   "id": "4df1bb69",
   "metadata": {
    "ExecuteTime": {
     "end_time": "2022-11-16T06:03:55.469174Z",
     "start_time": "2022-11-16T06:03:55.455111Z"
    }
   },
   "outputs": [
    {
     "data": {
      "text/plain": [
       "small    378\n",
       "large    139\n",
       "Name: size_category, dtype: int64"
      ]
     },
     "execution_count": 7,
     "metadata": {},
     "output_type": "execute_result"
    }
   ],
   "source": [
    "Ff[\"size_category\"].value_counts()"
   ]
  },
  {
   "cell_type": "code",
   "execution_count": 8,
   "id": "01027154",
   "metadata": {
    "ExecuteTime": {
     "end_time": "2022-11-16T06:04:19.322661Z",
     "start_time": "2022-11-16T06:04:19.311571Z"
    }
   },
   "outputs": [
    {
     "data": {
      "text/plain": [
       "FFMC             0\n",
       "DMC              0\n",
       "DC               0\n",
       "ISI              0\n",
       "temp             0\n",
       "RH               0\n",
       "wind             0\n",
       "rain             0\n",
       "area             0\n",
       "dayfri           0\n",
       "daymon           0\n",
       "daysat           0\n",
       "daysun           0\n",
       "daythu           0\n",
       "daytue           0\n",
       "daywed           0\n",
       "monthapr         0\n",
       "monthaug         0\n",
       "monthdec         0\n",
       "monthfeb         0\n",
       "monthjan         0\n",
       "monthjul         0\n",
       "monthjun         0\n",
       "monthmar         0\n",
       "monthmay         0\n",
       "monthnov         0\n",
       "monthoct         0\n",
       "monthsep         0\n",
       "size_category    0\n",
       "dtype: int64"
      ]
     },
     "execution_count": 8,
     "metadata": {},
     "output_type": "execute_result"
    }
   ],
   "source": [
    "Ff.isnull().sum()"
   ]
  },
  {
   "cell_type": "code",
   "execution_count": 9,
   "id": "d5a3954b",
   "metadata": {
    "ExecuteTime": {
     "end_time": "2022-11-16T06:04:45.086749Z",
     "start_time": "2022-11-16T06:04:44.988876Z"
    }
   },
   "outputs": [
    {
     "data": {
      "text/html": [
       "<div>\n",
       "<style scoped>\n",
       "    .dataframe tbody tr th:only-of-type {\n",
       "        vertical-align: middle;\n",
       "    }\n",
       "\n",
       "    .dataframe tbody tr th {\n",
       "        vertical-align: top;\n",
       "    }\n",
       "\n",
       "    .dataframe thead th {\n",
       "        text-align: right;\n",
       "    }\n",
       "</style>\n",
       "<table border=\"1\" class=\"dataframe\">\n",
       "  <thead>\n",
       "    <tr style=\"text-align: right;\">\n",
       "      <th></th>\n",
       "      <th>count</th>\n",
       "      <th>mean</th>\n",
       "      <th>std</th>\n",
       "      <th>min</th>\n",
       "      <th>25%</th>\n",
       "      <th>50%</th>\n",
       "      <th>75%</th>\n",
       "      <th>max</th>\n",
       "    </tr>\n",
       "  </thead>\n",
       "  <tbody>\n",
       "    <tr>\n",
       "      <th>FFMC</th>\n",
       "      <td>517.0</td>\n",
       "      <td>90.644681</td>\n",
       "      <td>5.520111</td>\n",
       "      <td>18.7</td>\n",
       "      <td>90.2</td>\n",
       "      <td>91.60</td>\n",
       "      <td>92.90</td>\n",
       "      <td>96.20</td>\n",
       "    </tr>\n",
       "    <tr>\n",
       "      <th>DMC</th>\n",
       "      <td>517.0</td>\n",
       "      <td>110.872340</td>\n",
       "      <td>64.046482</td>\n",
       "      <td>1.1</td>\n",
       "      <td>68.6</td>\n",
       "      <td>108.30</td>\n",
       "      <td>142.40</td>\n",
       "      <td>291.30</td>\n",
       "    </tr>\n",
       "    <tr>\n",
       "      <th>DC</th>\n",
       "      <td>517.0</td>\n",
       "      <td>547.940039</td>\n",
       "      <td>248.066192</td>\n",
       "      <td>7.9</td>\n",
       "      <td>437.7</td>\n",
       "      <td>664.20</td>\n",
       "      <td>713.90</td>\n",
       "      <td>860.60</td>\n",
       "    </tr>\n",
       "    <tr>\n",
       "      <th>ISI</th>\n",
       "      <td>517.0</td>\n",
       "      <td>9.021663</td>\n",
       "      <td>4.559477</td>\n",
       "      <td>0.0</td>\n",
       "      <td>6.5</td>\n",
       "      <td>8.40</td>\n",
       "      <td>10.80</td>\n",
       "      <td>56.10</td>\n",
       "    </tr>\n",
       "    <tr>\n",
       "      <th>temp</th>\n",
       "      <td>517.0</td>\n",
       "      <td>18.889168</td>\n",
       "      <td>5.806625</td>\n",
       "      <td>2.2</td>\n",
       "      <td>15.5</td>\n",
       "      <td>19.30</td>\n",
       "      <td>22.80</td>\n",
       "      <td>33.30</td>\n",
       "    </tr>\n",
       "    <tr>\n",
       "      <th>RH</th>\n",
       "      <td>517.0</td>\n",
       "      <td>44.288201</td>\n",
       "      <td>16.317469</td>\n",
       "      <td>15.0</td>\n",
       "      <td>33.0</td>\n",
       "      <td>42.00</td>\n",
       "      <td>53.00</td>\n",
       "      <td>100.00</td>\n",
       "    </tr>\n",
       "    <tr>\n",
       "      <th>wind</th>\n",
       "      <td>517.0</td>\n",
       "      <td>4.017602</td>\n",
       "      <td>1.791653</td>\n",
       "      <td>0.4</td>\n",
       "      <td>2.7</td>\n",
       "      <td>4.00</td>\n",
       "      <td>4.90</td>\n",
       "      <td>9.40</td>\n",
       "    </tr>\n",
       "    <tr>\n",
       "      <th>rain</th>\n",
       "      <td>517.0</td>\n",
       "      <td>0.021663</td>\n",
       "      <td>0.295959</td>\n",
       "      <td>0.0</td>\n",
       "      <td>0.0</td>\n",
       "      <td>0.00</td>\n",
       "      <td>0.00</td>\n",
       "      <td>6.40</td>\n",
       "    </tr>\n",
       "    <tr>\n",
       "      <th>area</th>\n",
       "      <td>517.0</td>\n",
       "      <td>12.847292</td>\n",
       "      <td>63.655818</td>\n",
       "      <td>0.0</td>\n",
       "      <td>0.0</td>\n",
       "      <td>0.52</td>\n",
       "      <td>6.57</td>\n",
       "      <td>1090.84</td>\n",
       "    </tr>\n",
       "    <tr>\n",
       "      <th>dayfri</th>\n",
       "      <td>517.0</td>\n",
       "      <td>0.164410</td>\n",
       "      <td>0.371006</td>\n",
       "      <td>0.0</td>\n",
       "      <td>0.0</td>\n",
       "      <td>0.00</td>\n",
       "      <td>0.00</td>\n",
       "      <td>1.00</td>\n",
       "    </tr>\n",
       "    <tr>\n",
       "      <th>daymon</th>\n",
       "      <td>517.0</td>\n",
       "      <td>0.143133</td>\n",
       "      <td>0.350548</td>\n",
       "      <td>0.0</td>\n",
       "      <td>0.0</td>\n",
       "      <td>0.00</td>\n",
       "      <td>0.00</td>\n",
       "      <td>1.00</td>\n",
       "    </tr>\n",
       "    <tr>\n",
       "      <th>daysat</th>\n",
       "      <td>517.0</td>\n",
       "      <td>0.162476</td>\n",
       "      <td>0.369244</td>\n",
       "      <td>0.0</td>\n",
       "      <td>0.0</td>\n",
       "      <td>0.00</td>\n",
       "      <td>0.00</td>\n",
       "      <td>1.00</td>\n",
       "    </tr>\n",
       "    <tr>\n",
       "      <th>daysun</th>\n",
       "      <td>517.0</td>\n",
       "      <td>0.183752</td>\n",
       "      <td>0.387657</td>\n",
       "      <td>0.0</td>\n",
       "      <td>0.0</td>\n",
       "      <td>0.00</td>\n",
       "      <td>0.00</td>\n",
       "      <td>1.00</td>\n",
       "    </tr>\n",
       "    <tr>\n",
       "      <th>daythu</th>\n",
       "      <td>517.0</td>\n",
       "      <td>0.117988</td>\n",
       "      <td>0.322907</td>\n",
       "      <td>0.0</td>\n",
       "      <td>0.0</td>\n",
       "      <td>0.00</td>\n",
       "      <td>0.00</td>\n",
       "      <td>1.00</td>\n",
       "    </tr>\n",
       "    <tr>\n",
       "      <th>daytue</th>\n",
       "      <td>517.0</td>\n",
       "      <td>0.123791</td>\n",
       "      <td>0.329662</td>\n",
       "      <td>0.0</td>\n",
       "      <td>0.0</td>\n",
       "      <td>0.00</td>\n",
       "      <td>0.00</td>\n",
       "      <td>1.00</td>\n",
       "    </tr>\n",
       "    <tr>\n",
       "      <th>daywed</th>\n",
       "      <td>517.0</td>\n",
       "      <td>0.104449</td>\n",
       "      <td>0.306138</td>\n",
       "      <td>0.0</td>\n",
       "      <td>0.0</td>\n",
       "      <td>0.00</td>\n",
       "      <td>0.00</td>\n",
       "      <td>1.00</td>\n",
       "    </tr>\n",
       "    <tr>\n",
       "      <th>monthapr</th>\n",
       "      <td>517.0</td>\n",
       "      <td>0.017408</td>\n",
       "      <td>0.130913</td>\n",
       "      <td>0.0</td>\n",
       "      <td>0.0</td>\n",
       "      <td>0.00</td>\n",
       "      <td>0.00</td>\n",
       "      <td>1.00</td>\n",
       "    </tr>\n",
       "    <tr>\n",
       "      <th>monthaug</th>\n",
       "      <td>517.0</td>\n",
       "      <td>0.355899</td>\n",
       "      <td>0.479249</td>\n",
       "      <td>0.0</td>\n",
       "      <td>0.0</td>\n",
       "      <td>0.00</td>\n",
       "      <td>1.00</td>\n",
       "      <td>1.00</td>\n",
       "    </tr>\n",
       "    <tr>\n",
       "      <th>monthdec</th>\n",
       "      <td>517.0</td>\n",
       "      <td>0.017408</td>\n",
       "      <td>0.130913</td>\n",
       "      <td>0.0</td>\n",
       "      <td>0.0</td>\n",
       "      <td>0.00</td>\n",
       "      <td>0.00</td>\n",
       "      <td>1.00</td>\n",
       "    </tr>\n",
       "    <tr>\n",
       "      <th>monthfeb</th>\n",
       "      <td>517.0</td>\n",
       "      <td>0.038685</td>\n",
       "      <td>0.193029</td>\n",
       "      <td>0.0</td>\n",
       "      <td>0.0</td>\n",
       "      <td>0.00</td>\n",
       "      <td>0.00</td>\n",
       "      <td>1.00</td>\n",
       "    </tr>\n",
       "    <tr>\n",
       "      <th>monthjan</th>\n",
       "      <td>517.0</td>\n",
       "      <td>0.003868</td>\n",
       "      <td>0.062137</td>\n",
       "      <td>0.0</td>\n",
       "      <td>0.0</td>\n",
       "      <td>0.00</td>\n",
       "      <td>0.00</td>\n",
       "      <td>1.00</td>\n",
       "    </tr>\n",
       "    <tr>\n",
       "      <th>monthjul</th>\n",
       "      <td>517.0</td>\n",
       "      <td>0.061896</td>\n",
       "      <td>0.241199</td>\n",
       "      <td>0.0</td>\n",
       "      <td>0.0</td>\n",
       "      <td>0.00</td>\n",
       "      <td>0.00</td>\n",
       "      <td>1.00</td>\n",
       "    </tr>\n",
       "    <tr>\n",
       "      <th>monthjun</th>\n",
       "      <td>517.0</td>\n",
       "      <td>0.032882</td>\n",
       "      <td>0.178500</td>\n",
       "      <td>0.0</td>\n",
       "      <td>0.0</td>\n",
       "      <td>0.00</td>\n",
       "      <td>0.00</td>\n",
       "      <td>1.00</td>\n",
       "    </tr>\n",
       "    <tr>\n",
       "      <th>monthmar</th>\n",
       "      <td>517.0</td>\n",
       "      <td>0.104449</td>\n",
       "      <td>0.306138</td>\n",
       "      <td>0.0</td>\n",
       "      <td>0.0</td>\n",
       "      <td>0.00</td>\n",
       "      <td>0.00</td>\n",
       "      <td>1.00</td>\n",
       "    </tr>\n",
       "    <tr>\n",
       "      <th>monthmay</th>\n",
       "      <td>517.0</td>\n",
       "      <td>0.003868</td>\n",
       "      <td>0.062137</td>\n",
       "      <td>0.0</td>\n",
       "      <td>0.0</td>\n",
       "      <td>0.00</td>\n",
       "      <td>0.00</td>\n",
       "      <td>1.00</td>\n",
       "    </tr>\n",
       "    <tr>\n",
       "      <th>monthnov</th>\n",
       "      <td>517.0</td>\n",
       "      <td>0.001934</td>\n",
       "      <td>0.043980</td>\n",
       "      <td>0.0</td>\n",
       "      <td>0.0</td>\n",
       "      <td>0.00</td>\n",
       "      <td>0.00</td>\n",
       "      <td>1.00</td>\n",
       "    </tr>\n",
       "    <tr>\n",
       "      <th>monthoct</th>\n",
       "      <td>517.0</td>\n",
       "      <td>0.029014</td>\n",
       "      <td>0.168007</td>\n",
       "      <td>0.0</td>\n",
       "      <td>0.0</td>\n",
       "      <td>0.00</td>\n",
       "      <td>0.00</td>\n",
       "      <td>1.00</td>\n",
       "    </tr>\n",
       "    <tr>\n",
       "      <th>monthsep</th>\n",
       "      <td>517.0</td>\n",
       "      <td>0.332689</td>\n",
       "      <td>0.471632</td>\n",
       "      <td>0.0</td>\n",
       "      <td>0.0</td>\n",
       "      <td>0.00</td>\n",
       "      <td>1.00</td>\n",
       "      <td>1.00</td>\n",
       "    </tr>\n",
       "  </tbody>\n",
       "</table>\n",
       "</div>"
      ],
      "text/plain": [
       "          count        mean         std   min    25%     50%     75%      max\n",
       "FFMC      517.0   90.644681    5.520111  18.7   90.2   91.60   92.90    96.20\n",
       "DMC       517.0  110.872340   64.046482   1.1   68.6  108.30  142.40   291.30\n",
       "DC        517.0  547.940039  248.066192   7.9  437.7  664.20  713.90   860.60\n",
       "ISI       517.0    9.021663    4.559477   0.0    6.5    8.40   10.80    56.10\n",
       "temp      517.0   18.889168    5.806625   2.2   15.5   19.30   22.80    33.30\n",
       "RH        517.0   44.288201   16.317469  15.0   33.0   42.00   53.00   100.00\n",
       "wind      517.0    4.017602    1.791653   0.4    2.7    4.00    4.90     9.40\n",
       "rain      517.0    0.021663    0.295959   0.0    0.0    0.00    0.00     6.40\n",
       "area      517.0   12.847292   63.655818   0.0    0.0    0.52    6.57  1090.84\n",
       "dayfri    517.0    0.164410    0.371006   0.0    0.0    0.00    0.00     1.00\n",
       "daymon    517.0    0.143133    0.350548   0.0    0.0    0.00    0.00     1.00\n",
       "daysat    517.0    0.162476    0.369244   0.0    0.0    0.00    0.00     1.00\n",
       "daysun    517.0    0.183752    0.387657   0.0    0.0    0.00    0.00     1.00\n",
       "daythu    517.0    0.117988    0.322907   0.0    0.0    0.00    0.00     1.00\n",
       "daytue    517.0    0.123791    0.329662   0.0    0.0    0.00    0.00     1.00\n",
       "daywed    517.0    0.104449    0.306138   0.0    0.0    0.00    0.00     1.00\n",
       "monthapr  517.0    0.017408    0.130913   0.0    0.0    0.00    0.00     1.00\n",
       "monthaug  517.0    0.355899    0.479249   0.0    0.0    0.00    1.00     1.00\n",
       "monthdec  517.0    0.017408    0.130913   0.0    0.0    0.00    0.00     1.00\n",
       "monthfeb  517.0    0.038685    0.193029   0.0    0.0    0.00    0.00     1.00\n",
       "monthjan  517.0    0.003868    0.062137   0.0    0.0    0.00    0.00     1.00\n",
       "monthjul  517.0    0.061896    0.241199   0.0    0.0    0.00    0.00     1.00\n",
       "monthjun  517.0    0.032882    0.178500   0.0    0.0    0.00    0.00     1.00\n",
       "monthmar  517.0    0.104449    0.306138   0.0    0.0    0.00    0.00     1.00\n",
       "monthmay  517.0    0.003868    0.062137   0.0    0.0    0.00    0.00     1.00\n",
       "monthnov  517.0    0.001934    0.043980   0.0    0.0    0.00    0.00     1.00\n",
       "monthoct  517.0    0.029014    0.168007   0.0    0.0    0.00    0.00     1.00\n",
       "monthsep  517.0    0.332689    0.471632   0.0    0.0    0.00    1.00     1.00"
      ]
     },
     "execution_count": 9,
     "metadata": {},
     "output_type": "execute_result"
    }
   ],
   "source": [
    "Ff.describe().T"
   ]
  },
  {
   "cell_type": "code",
   "execution_count": 11,
   "id": "abe17cf5",
   "metadata": {
    "ExecuteTime": {
     "end_time": "2022-11-16T06:05:53.891720Z",
     "start_time": "2022-11-16T06:05:53.746852Z"
    }
   },
   "outputs": [
    {
     "name": "stderr",
     "output_type": "stream",
     "text": [
      "C:\\Users\\Vishnu\\.conda\\lib\\site-packages\\seaborn\\_decorators.py:36: FutureWarning: Pass the following variable as a keyword arg: x. From version 0.12, the only valid positional argument will be `data`, and passing other arguments without an explicit keyword will result in an error or misinterpretation.\n",
      "  warnings.warn(\n"
     ]
    },
    {
     "data": {
      "image/png": "[encoded data removed]",
      "text/plain": [
       "<Figure size 432x288 with 1 Axes>"
      ]
     },
     "metadata": {
      "needs_background": "light"
     },
     "output_type": "display_data"
    }
   ],
   "source": [
    "## outliers\n",
    "ax = sns.boxplot(Ff['area'])"
   ]
  },
  {
   "cell_type": "code",
   "execution_count": 12,
   "id": "ac34f469",
   "metadata": {
    "ExecuteTime": {
     "end_time": "2022-11-16T06:06:17.331476Z",
     "start_time": "2022-11-16T06:06:17.326137Z"
    }
   },
   "outputs": [],
   "source": [
    "plt.rcParams[\"figure.figsize\"] = 9,5 "
   ]
  },
  {
   "cell_type": "code",
   "execution_count": 13,
   "id": "30f0565b",
   "metadata": {
    "ExecuteTime": {
     "end_time": "2022-11-16T06:06:57.275862Z",
     "start_time": "2022-11-16T06:06:57.025288Z"
    }
   },
   "outputs": [
    {
     "name": "stdout",
     "output_type": "stream",
     "text": [
      "Skew: 12.846933533934868\n",
      "Kurtosis: 194.1407210942299\n"
     ]
    },
    {
     "data": {
      "image/png": "[encoded data removed]",
      "text/plain": [
       "<Figure size 1152x360 with 1 Axes>"
      ]
     },
     "metadata": {
      "needs_background": "light"
     },
     "output_type": "display_data"
    }
   ],
   "source": [
    "plt.figure(figsize=(16,5))\n",
    "print(\"Skew: {}\".format(Ff['area'].skew()))\n",
    "print(\"Kurtosis: {}\".format(Ff['area'].kurtosis()))\n",
    "ax = sns.kdeplot(Ff['area'],shade=True,color='g')\n",
    "plt.xticks([i for i in range(0,1200,50)])\n",
    "plt.show()"
   ]
  },
  {
   "cell_type": "code",
   "execution_count": 14,
   "id": "136d1a0a",
   "metadata": {
    "ExecuteTime": {
     "end_time": "2022-11-16T06:08:49.989588Z",
     "start_time": "2022-11-16T06:08:49.975674Z"
    }
   },
   "outputs": [],
   "source": [
    "Ff_a = Ff[Ff.columns[0:10]]\n",
    "month_colum = Ff_a.select_dtypes(include='object').columns.tolist()"
   ]
  },
  {
   "cell_type": "code",
   "execution_count": 17,
   "id": "0b3ae624",
   "metadata": {
    "ExecuteTime": {
     "end_time": "2022-11-16T06:11:12.858812Z",
     "start_time": "2022-11-16T06:11:12.853754Z"
    }
   },
   "outputs": [],
   "source": [
    "num_columns = Ff_a.select_dtypes(exclude='object').columns.tolist()"
   ]
  },
  {
   "cell_type": "code",
   "execution_count": 18,
   "id": "24197717",
   "metadata": {
    "ExecuteTime": {
     "end_time": "2022-11-16T06:12:14.074745Z",
     "start_time": "2022-11-16T06:12:10.815188Z"
    }
   },
   "outputs": [
    {
     "data": {
      "image/png": "[encoded data removed]",
      "text/plain": [
       "<Figure size 1296x2880 with 20 Axes>"
      ]
     },
     "metadata": {
      "needs_background": "light"
     },
     "output_type": "display_data"
    },
    {
     "data": {
      "text/html": [
       "<div>\n",
       "<style scoped>\n",
       "    .dataframe tbody tr th:only-of-type {\n",
       "        vertical-align: middle;\n",
       "    }\n",
       "\n",
       "    .dataframe tbody tr th {\n",
       "        vertical-align: top;\n",
       "    }\n",
       "\n",
       "    .dataframe thead th {\n",
       "        text-align: right;\n",
       "    }\n",
       "</style>\n",
       "<table border=\"1\" class=\"dataframe\">\n",
       "  <thead>\n",
       "    <tr style=\"text-align: right;\">\n",
       "      <th></th>\n",
       "      <th>FFMC</th>\n",
       "      <th>DMC</th>\n",
       "      <th>DC</th>\n",
       "      <th>ISI</th>\n",
       "      <th>temp</th>\n",
       "      <th>RH</th>\n",
       "      <th>wind</th>\n",
       "      <th>rain</th>\n",
       "      <th>area</th>\n",
       "      <th>dayfri</th>\n",
       "    </tr>\n",
       "  </thead>\n",
       "  <tbody>\n",
       "    <tr>\n",
       "      <th>skewness</th>\n",
       "      <td>-6.575606</td>\n",
       "      <td>0.547498</td>\n",
       "      <td>-1.100445</td>\n",
       "      <td>2.536325</td>\n",
       "      <td>-0.331172</td>\n",
       "      <td>0.862904</td>\n",
       "      <td>0.571001</td>\n",
       "      <td>19.816344</td>\n",
       "      <td>12.846934</td>\n",
       "      <td>1.816105</td>\n",
       "    </tr>\n",
       "    <tr>\n",
       "      <th>kurtosis</th>\n",
       "      <td>67.066041</td>\n",
       "      <td>0.204822</td>\n",
       "      <td>-0.245244</td>\n",
       "      <td>21.458037</td>\n",
       "      <td>0.136166</td>\n",
       "      <td>0.438183</td>\n",
       "      <td>0.054324</td>\n",
       "      <td>421.295964</td>\n",
       "      <td>194.140721</td>\n",
       "      <td>1.303265</td>\n",
       "    </tr>\n",
       "  </tbody>\n",
       "</table>\n",
       "</div>"
      ],
      "text/plain": [
       "               FFMC       DMC        DC        ISI      temp        RH      wind        rain        area    dayfri\n",
       "skewness  -6.575606  0.547498 -1.100445   2.536325 -0.331172  0.862904  0.571001   19.816344   12.846934  1.816105\n",
       "kurtosis  67.066041  0.204822 -0.245244  21.458037  0.136166  0.438183  0.054324  421.295964  194.140721  1.303265"
      ]
     },
     "execution_count": 18,
     "metadata": {},
     "output_type": "execute_result"
    }
   ],
   "source": [
    "plt.figure(figsize=(18,40))\n",
    "for i,col in enumerate(num_columns,1):\n",
    "    plt.subplot(8,4,i)\n",
    "    sns.kdeplot(Ff_a[col],color='g',shade=True)\n",
    "    plt.subplot(8,4,i+10)\n",
    "    Ff_a[col].plot.box()\n",
    "plt.tight_layout() \n",
    "plt.show()\n",
    "num_data = Ff_a[num_columns]\n",
    "pd.DataFrame(data=[num_data.skew(),num_data.kurtosis()],index=['skewness','kurtosis'])"
   ]
  },
  {
   "cell_type": "code",
   "execution_count": 19,
   "id": "b5e9f5b2",
   "metadata": {
    "ExecuteTime": {
     "end_time": "2022-11-16T06:13:14.313490Z",
     "start_time": "2022-11-16T06:13:14.302422Z"
    }
   },
   "outputs": [],
   "source": [
    "# Finding correlation\n",
    "corr = Ff[Ff.columns[0:11]].corr() "
   ]
  },
  {
   "cell_type": "code",
   "execution_count": 21,
   "id": "d7e13f3b",
   "metadata": {
    "ExecuteTime": {
     "end_time": "2022-11-16T06:13:40.426436Z",
     "start_time": "2022-11-16T06:13:39.715834Z"
    }
   },
   "outputs": [
    {
     "data": {
      "text/plain": [
       "<AxesSubplot:>"
      ]
     },
     "execution_count": 21,
     "metadata": {},
     "output_type": "execute_result"
    },
    {
     "data": {
      "image/png": "[encoded data removed]",
      "text/plain": [
       "<Figure size 648x648 with 2 Axes>"
      ]
     },
     "metadata": {
      "needs_background": "light"
     },
     "output_type": "display_data"
    }
   ],
   "source": [
    "plt.figure(figsize=(9,9))\n",
    "sns.heatmap(corr,annot=True)"
   ]
  },
  {
   "cell_type": "code",
   "execution_count": 22,
   "id": "231abb39",
   "metadata": {
    "ExecuteTime": {
     "end_time": "2022-11-16T06:14:19.931014Z",
     "start_time": "2022-11-16T06:14:19.916756Z"
    }
   },
   "outputs": [],
   "source": [
    "## Nueral network model\n",
    "mapping = {'small': 1, 'large': 2}"
   ]
  },
  {
   "cell_type": "code",
   "execution_count": 23,
   "id": "351889b7",
   "metadata": {
    "ExecuteTime": {
     "end_time": "2022-11-16T06:14:49.924035Z",
     "start_time": "2022-11-16T06:14:49.916296Z"
    }
   },
   "outputs": [],
   "source": [
    "Ff = Ff.replace(mapping)"
   ]
  },
  {
   "cell_type": "code",
   "execution_count": 24,
   "id": "63cd1dfb",
   "metadata": {
    "ExecuteTime": {
     "end_time": "2022-11-16T06:15:24.063973Z",
     "start_time": "2022-11-16T06:15:24.059221Z"
    }
   },
   "outputs": [],
   "source": [
    "X = np.array(Ff.iloc[:,0:28])\n",
    "y = np.array(Ff.iloc[:,28])"
   ]
  },
  {
   "cell_type": "code",
   "execution_count": 25,
   "id": "0e0184a3",
   "metadata": {
    "ExecuteTime": {
     "end_time": "2022-11-16T06:15:53.498451Z",
     "start_time": "2022-11-16T06:15:53.479397Z"
    }
   },
   "outputs": [],
   "source": [
    "def norm_func(i):\n",
    "    x = (i-i.min())/(i.max()-i.min())\n",
    "    return (x)"
   ]
  },
  {
   "cell_type": "code",
   "execution_count": 26,
   "id": "a561c9d8",
   "metadata": {
    "ExecuteTime": {
     "end_time": "2022-11-16T06:16:13.103574Z",
     "start_time": "2022-11-16T06:16:13.094773Z"
    }
   },
   "outputs": [],
   "source": [
    "X_norm = norm_func(X)"
   ]
  },
  {
   "cell_type": "code",
   "execution_count": 27,
   "id": "926e07f5",
   "metadata": {
    "ExecuteTime": {
     "end_time": "2022-11-16T06:16:28.545792Z",
     "start_time": "2022-11-16T06:16:28.522906Z"
    }
   },
   "outputs": [],
   "source": [
    "x_train,x_test,y_train,y_test= train_test_split(X_norm,y, test_size=0.2,stratify = y)"
   ]
  },
  {
   "cell_type": "code",
   "execution_count": 28,
   "id": "3538434f",
   "metadata": {
    "ExecuteTime": {
     "end_time": "2022-11-16T06:16:48.149438Z",
     "start_time": "2022-11-16T06:16:47.956583Z"
    }
   },
   "outputs": [],
   "source": [
    "model = Sequential()\n",
    "model.add(Dense(12, input_dim=28, activation='relu'))\n",
    "model.add(Dense(8, activation='relu'))\n",
    "model.add(Dense(1, activation='sigmoid'))"
   ]
  },
  {
   "cell_type": "code",
   "execution_count": 29,
   "id": "e7334e79",
   "metadata": {
    "ExecuteTime": {
     "end_time": "2022-11-16T06:17:11.869087Z",
     "start_time": "2022-11-16T06:17:11.842015Z"
    }
   },
   "outputs": [],
   "source": [
    "model.compile(loss='binary_crossentropy', optimizer='adam', metrics=['accuracy'])"
   ]
  },
  {
   "cell_type": "code",
   "execution_count": 30,
   "id": "20305672",
   "metadata": {
    "ExecuteTime": {
     "end_time": "2022-11-16T06:17:40.792337Z",
     "start_time": "2022-11-16T06:17:27.384127Z"
    }
   },
   "outputs": [
    {
     "name": "stdout",
     "output_type": "stream",
     "text": [
      "Epoch 1/150\n",
      "42/42 [==============================] - 4s 1ms/step - loss: 0.5949 - accuracy: 0.6804\n",
      "Epoch 2/150\n",
      "42/42 [==============================] - 0s 1ms/step - loss: 0.3552 - accuracy: 0.7312\n",
      "Epoch 3/150\n",
      "42/42 [==============================] - 0s 1ms/step - loss: 0.0437 - accuracy: 0.7312\n",
      "Epoch 4/150\n",
      "42/42 [==============================] - 0s 1ms/step - loss: -0.3491 - accuracy: 0.7312\n",
      "Epoch 5/150\n",
      "42/42 [==============================] - 0s 1ms/step - loss: -0.7523 - accuracy: 0.7312\n",
      "Epoch 6/150\n",
      "42/42 [==============================] - 0s 1ms/step - loss: -1.1751 - accuracy: 0.7312\n",
      "Epoch 7/150\n",
      "42/42 [==============================] - 0s 1ms/step - loss: -1.6817 - accuracy: 0.7312\n",
      "Epoch 8/150\n",
      "42/42 [==============================] - 0s 1ms/step - loss: -2.3407 - accuracy: 0.7312\n",
      "Epoch 9/150\n",
      "42/42 [==============================] - 0s 1ms/step - loss: -3.1727 - accuracy: 0.7312\n",
      "Epoch 10/150\n",
      "42/42 [==============================] - 0s 1ms/step - loss: -4.2186 - accuracy: 0.7312\n",
      "Epoch 11/150\n",
      "42/42 [==============================] - 0s 1ms/step - loss: -5.5180 - accuracy: 0.7312\n",
      "Epoch 12/150\n",
      "42/42 [==============================] - 0s 1ms/step - loss: -7.1225 - accuracy: 0.7312\n",
      "Epoch 13/150\n",
      "42/42 [==============================] - 0s 1ms/step - loss: -9.0024 - accuracy: 0.7312\n",
      "Epoch 14/150\n",
      "42/42 [==============================] - 0s 2ms/step - loss: -11.1963 - accuracy: 0.7312\n",
      "Epoch 15/150\n",
      "42/42 [==============================] - 0s 2ms/step - loss: -13.7045 - accuracy: 0.7312\n",
      "Epoch 16/150\n",
      "42/42 [==============================] - 0s 1ms/step - loss: -16.6698 - accuracy: 0.7312\n",
      "Epoch 17/150\n",
      "42/42 [==============================] - 0s 1ms/step - loss: -19.9158 - accuracy: 0.7312\n",
      "Epoch 18/150\n",
      "42/42 [==============================] - 0s 1ms/step - loss: -23.5785 - accuracy: 0.7312\n",
      "Epoch 19/150\n",
      "42/42 [==============================] - 0s 1ms/step - loss: -27.6286 - accuracy: 0.7312\n",
      "Epoch 20/150\n",
      "42/42 [==============================] - 0s 1ms/step - loss: -32.1132 - accuracy: 0.7312\n",
      "Epoch 21/150\n",
      "42/42 [==============================] - 0s 1ms/step - loss: -36.9840 - accuracy: 0.7312\n",
      "Epoch 22/150\n",
      "42/42 [==============================] - 0s 1ms/step - loss: -42.2949 - accuracy: 0.7312\n",
      "Epoch 23/150\n",
      "42/42 [==============================] - 0s 1ms/step - loss: -48.1210 - accuracy: 0.7312\n",
      "Epoch 24/150\n",
      "42/42 [==============================] - 0s 1ms/step - loss: -54.4312 - accuracy: 0.7312\n",
      "Epoch 25/150\n",
      "42/42 [==============================] - 0s 1ms/step - loss: -61.1653 - accuracy: 0.7312\n",
      "Epoch 26/150\n",
      "42/42 [==============================] - 0s 1ms/step - loss: -68.6179 - accuracy: 0.7312\n",
      "Epoch 27/150\n",
      "42/42 [==============================] - 0s 1ms/step - loss: -76.3081 - accuracy: 0.7312\n",
      "Epoch 28/150\n",
      "42/42 [==============================] - 0s 1ms/step - loss: -84.4618 - accuracy: 0.7312\n",
      "Epoch 29/150\n",
      "42/42 [==============================] - 0s 1ms/step - loss: -93.3063 - accuracy: 0.7312\n",
      "Epoch 30/150\n",
      "42/42 [==============================] - 0s 1ms/step - loss: -102.3778 - accuracy: 0.7312\n",
      "Epoch 31/150\n",
      "42/42 [==============================] - 0s 1ms/step - loss: -112.2517 - accuracy: 0.7312\n",
      "Epoch 32/150\n",
      "42/42 [==============================] - 0s 1ms/step - loss: -122.4487 - accuracy: 0.7312\n",
      "Epoch 33/150\n",
      "42/42 [==============================] - 0s 2ms/step - loss: -133.4385 - accuracy: 0.7312\n",
      "Epoch 34/150\n",
      "42/42 [==============================] - 0s 1ms/step - loss: -144.5728 - accuracy: 0.7312\n",
      "Epoch 35/150\n",
      "42/42 [==============================] - 0s 1ms/step - loss: -156.3998 - accuracy: 0.7312\n",
      "Epoch 36/150\n",
      "42/42 [==============================] - 0s 1ms/step - loss: -169.1866 - accuracy: 0.7312\n",
      "Epoch 37/150\n",
      "42/42 [==============================] - 0s 1ms/step - loss: -182.3380 - accuracy: 0.7312\n",
      "Epoch 38/150\n",
      "42/42 [==============================] - 0s 1ms/step - loss: -196.5092 - accuracy: 0.7312\n",
      "Epoch 39/150\n",
      "42/42 [==============================] - 0s 1ms/step - loss: -210.8164 - accuracy: 0.7312\n",
      "Epoch 40/150\n",
      "42/42 [==============================] - 0s 1ms/step - loss: -225.5895 - accuracy: 0.7312\n",
      "Epoch 41/150\n",
      "42/42 [==============================] - 0s 1ms/step - loss: -241.2554 - accuracy: 0.7312\n",
      "Epoch 42/150\n",
      "42/42 [==============================] - 0s 1ms/step - loss: -257.1759 - accuracy: 0.7312\n",
      "Epoch 43/150\n",
      "42/42 [==============================] - 0s 1ms/step - loss: -273.8950 - accuracy: 0.7312\n",
      "Epoch 44/150\n",
      "42/42 [==============================] - 0s 1ms/step - loss: -291.2368 - accuracy: 0.7312\n",
      "Epoch 45/150\n",
      "42/42 [==============================] - 0s 1ms/step - loss: -308.9223 - accuracy: 0.7312\n",
      "Epoch 46/150\n",
      "42/42 [==============================] - 0s 1ms/step - loss: -327.8658 - accuracy: 0.7312\n",
      "Epoch 47/150\n",
      "42/42 [==============================] - 0s 1ms/step - loss: -347.6456 - accuracy: 0.7312\n",
      "Epoch 48/150\n",
      "42/42 [==============================] - 0s 1ms/step - loss: -367.3008 - accuracy: 0.7312\n",
      "Epoch 49/150\n",
      "42/42 [==============================] - 0s 1ms/step - loss: -388.0424 - accuracy: 0.7312\n",
      "Epoch 50/150\n",
      "42/42 [==============================] - 0s 1ms/step - loss: -409.3880 - accuracy: 0.7312\n",
      "Epoch 51/150\n",
      "42/42 [==============================] - 0s 1ms/step - loss: -431.1099 - accuracy: 0.7312\n",
      "Epoch 52/150\n",
      "42/42 [==============================] - 0s 1ms/step - loss: -453.5349 - accuracy: 0.7312\n",
      "Epoch 53/150\n",
      "42/42 [==============================] - 0s 1ms/step - loss: -476.7796 - accuracy: 0.7312\n",
      "Epoch 54/150\n",
      "42/42 [==============================] - 0s 1ms/step - loss: -501.3625 - accuracy: 0.7312\n",
      "Epoch 55/150\n",
      "42/42 [==============================] - 0s 1ms/step - loss: -525.7416 - accuracy: 0.7312\n",
      "Epoch 56/150\n",
      "42/42 [==============================] - 0s 1ms/step - loss: -551.6777 - accuracy: 0.7312\n",
      "Epoch 57/150\n",
      "42/42 [==============================] - 0s 1ms/step - loss: -577.4319 - accuracy: 0.7312\n",
      "Epoch 58/150\n",
      "42/42 [==============================] - 0s 1ms/step - loss: -603.4565 - accuracy: 0.7312\n",
      "Epoch 59/150\n",
      "42/42 [==============================] - 0s 1ms/step - loss: -630.2863 - accuracy: 0.7312\n",
      "Epoch 60/150\n",
      "42/42 [==============================] - 0s 1ms/step - loss: -659.1560 - accuracy: 0.7312\n",
      "Epoch 61/150\n",
      "42/42 [==============================] - 0s 1ms/step - loss: -687.5811 - accuracy: 0.7312\n",
      "Epoch 62/150\n",
      "42/42 [==============================] - 0s 1ms/step - loss: -716.2759 - accuracy: 0.7312\n",
      "Epoch 63/150\n",
      "42/42 [==============================] - 0s 1ms/step - loss: -746.1505 - accuracy: 0.7312\n",
      "Epoch 64/150\n",
      "42/42 [==============================] - 0s 1ms/step - loss: -776.5511 - accuracy: 0.7312\n",
      "Epoch 65/150\n",
      "42/42 [==============================] - 0s 1ms/step - loss: -808.0224 - accuracy: 0.7312\n",
      "Epoch 66/150\n",
      "42/42 [==============================] - 0s 1ms/step - loss: -841.4054 - accuracy: 0.7312\n",
      "Epoch 67/150\n",
      "42/42 [==============================] - 0s 1ms/step - loss: -874.1418 - accuracy: 0.7312\n",
      "Epoch 68/150\n",
      "42/42 [==============================] - 0s 1ms/step - loss: -907.6575 - accuracy: 0.7312\n",
      "Epoch 69/150\n",
      "42/42 [==============================] - 0s 1ms/step - loss: -941.5976 - accuracy: 0.7312\n",
      "Epoch 70/150\n",
      "42/42 [==============================] - 0s 1ms/step - loss: -976.7748 - accuracy: 0.7312\n",
      "Epoch 71/150\n",
      "42/42 [==============================] - 0s 1ms/step - loss: -1012.7364 - accuracy: 0.7312\n",
      "Epoch 72/150\n",
      "42/42 [==============================] - 0s 1ms/step - loss: -1049.4153 - accuracy: 0.7312\n",
      "Epoch 73/150\n",
      "42/42 [==============================] - 0s 1ms/step - loss: -1087.0050 - accuracy: 0.7312\n",
      "Epoch 74/150\n",
      "42/42 [==============================] - 0s 1ms/step - loss: -1125.3231 - accuracy: 0.7312\n",
      "Epoch 75/150\n",
      "42/42 [==============================] - 0s 1ms/step - loss: -1162.6865 - accuracy: 0.7312\n",
      "Epoch 76/150\n",
      "42/42 [==============================] - 0s 1ms/step - loss: -1202.6934 - accuracy: 0.7312\n",
      "Epoch 77/150\n",
      "42/42 [==============================] - 0s 1ms/step - loss: -1242.3528 - accuracy: 0.7312\n",
      "Epoch 78/150\n",
      "42/42 [==============================] - 0s 1ms/step - loss: -1282.2009 - accuracy: 0.7312\n",
      "Epoch 79/150\n",
      "42/42 [==============================] - 0s 1ms/step - loss: -1323.1924 - accuracy: 0.7312\n",
      "Epoch 80/150\n",
      "42/42 [==============================] - 0s 1ms/step - loss: -1365.7701 - accuracy: 0.7312\n"
     ]
    },
    {
     "name": "stdout",
     "output_type": "stream",
     "text": [
      "Epoch 81/150\n",
      "42/42 [==============================] - 0s 1ms/step - loss: -1408.3407 - accuracy: 0.7312\n",
      "Epoch 82/150\n",
      "42/42 [==============================] - 0s 1ms/step - loss: -1451.8893 - accuracy: 0.7312\n",
      "Epoch 83/150\n",
      "42/42 [==============================] - 0s 1ms/step - loss: -1496.4187 - accuracy: 0.7312\n",
      "Epoch 84/150\n",
      "42/42 [==============================] - 0s 1ms/step - loss: -1540.6787 - accuracy: 0.7312\n",
      "Epoch 85/150\n",
      "42/42 [==============================] - 0s 1ms/step - loss: -1587.1787 - accuracy: 0.7312\n",
      "Epoch 86/150\n",
      "42/42 [==============================] - 0s 1ms/step - loss: -1633.9457 - accuracy: 0.7312\n",
      "Epoch 87/150\n",
      "42/42 [==============================] - 0s 1ms/step - loss: -1682.9631 - accuracy: 0.7312\n",
      "Epoch 88/150\n",
      "42/42 [==============================] - 0s 1ms/step - loss: -1730.4497 - accuracy: 0.7312\n",
      "Epoch 89/150\n",
      "42/42 [==============================] - 0s 1ms/step - loss: -1780.7300 - accuracy: 0.7312\n",
      "Epoch 90/150\n",
      "42/42 [==============================] - 0s 1ms/step - loss: -1831.7664 - accuracy: 0.7312\n",
      "Epoch 91/150\n",
      "42/42 [==============================] - 0s 1ms/step - loss: -1882.5538 - accuracy: 0.7312\n",
      "Epoch 92/150\n",
      "42/42 [==============================] - 0s 1ms/step - loss: -1934.2053 - accuracy: 0.7312\n",
      "Epoch 93/150\n",
      "42/42 [==============================] - 0s 1ms/step - loss: -1986.9028 - accuracy: 0.7312\n",
      "Epoch 94/150\n",
      "42/42 [==============================] - 0s 1ms/step - loss: -2040.8857 - accuracy: 0.7312\n",
      "Epoch 95/150\n",
      "42/42 [==============================] - 0s 1ms/step - loss: -2095.0981 - accuracy: 0.7312\n",
      "Epoch 96/150\n",
      "42/42 [==============================] - 0s 1ms/step - loss: -2150.8596 - accuracy: 0.7312\n",
      "Epoch 97/150\n",
      "42/42 [==============================] - 0s 1ms/step - loss: -2207.1399 - accuracy: 0.7312\n",
      "Epoch 98/150\n",
      "42/42 [==============================] - 0s 1ms/step - loss: -2263.4705 - accuracy: 0.7312\n",
      "Epoch 99/150\n",
      "42/42 [==============================] - 0s 1ms/step - loss: -2322.6238 - accuracy: 0.7312\n",
      "Epoch 100/150\n",
      "42/42 [==============================] - 0s 1ms/step - loss: -2380.9441 - accuracy: 0.7312\n",
      "Epoch 101/150\n",
      "42/42 [==============================] - 0s 1ms/step - loss: -2440.6528 - accuracy: 0.7312\n",
      "Epoch 102/150\n",
      "42/42 [==============================] - 0s 1ms/step - loss: -2499.9329 - accuracy: 0.7312\n",
      "Epoch 103/150\n",
      "42/42 [==============================] - 0s 1ms/step - loss: -2560.8828 - accuracy: 0.7312\n",
      "Epoch 104/150\n",
      "42/42 [==============================] - 0s 1ms/step - loss: -2622.5269 - accuracy: 0.7312\n",
      "Epoch 105/150\n",
      "42/42 [==============================] - 0s 1ms/step - loss: -2686.0425 - accuracy: 0.7312\n",
      "Epoch 106/150\n",
      "42/42 [==============================] - 0s 1ms/step - loss: -2748.6663 - accuracy: 0.7312\n",
      "Epoch 107/150\n",
      "42/42 [==============================] - 0s 1ms/step - loss: -2812.8445 - accuracy: 0.7312\n",
      "Epoch 108/150\n",
      "42/42 [==============================] - 0s 1ms/step - loss: -2878.6311 - accuracy: 0.7312\n",
      "Epoch 109/150\n",
      "42/42 [==============================] - 0s 1ms/step - loss: -2944.7913 - accuracy: 0.7312\n",
      "Epoch 110/150\n",
      "42/42 [==============================] - 0s 1ms/step - loss: -3013.0237 - accuracy: 0.7312\n",
      "Epoch 111/150\n",
      "42/42 [==============================] - 0s 1ms/step - loss: -3079.5081 - accuracy: 0.7312\n",
      "Epoch 112/150\n",
      "42/42 [==============================] - 0s 1ms/step - loss: -3147.4624 - accuracy: 0.7312\n",
      "Epoch 113/150\n",
      "42/42 [==============================] - 0s 1ms/step - loss: -3216.0193 - accuracy: 0.7312\n",
      "Epoch 114/150\n",
      "42/42 [==============================] - 0s 1ms/step - loss: -3286.2043 - accuracy: 0.7312\n",
      "Epoch 115/150\n",
      "42/42 [==============================] - 0s 1ms/step - loss: -3356.8767 - accuracy: 0.7312\n",
      "Epoch 116/150\n",
      "42/42 [==============================] - 0s 1ms/step - loss: -3428.6313 - accuracy: 0.7312\n",
      "Epoch 117/150\n",
      "42/42 [==============================] - 0s 1ms/step - loss: -3503.2551 - accuracy: 0.7312\n",
      "Epoch 118/150\n",
      "42/42 [==============================] - 0s 1ms/step - loss: -3575.8953 - accuracy: 0.7312\n",
      "Epoch 119/150\n",
      "42/42 [==============================] - 0s 1ms/step - loss: -3649.4314 - accuracy: 0.7312\n",
      "Epoch 120/150\n",
      "42/42 [==============================] - 0s 1ms/step - loss: -3724.2627 - accuracy: 0.7312\n",
      "Epoch 121/150\n",
      "42/42 [==============================] - 0s 1ms/step - loss: -3800.6045 - accuracy: 0.7312\n",
      "Epoch 122/150\n",
      "42/42 [==============================] - 0s 1ms/step - loss: -3875.7495 - accuracy: 0.7312\n",
      "Epoch 123/150\n",
      "42/42 [==============================] - 0s 1ms/step - loss: -3955.4321 - accuracy: 0.7312\n",
      "Epoch 124/150\n",
      "42/42 [==============================] - 0s 1ms/step - loss: -4034.4890 - accuracy: 0.7312\n",
      "Epoch 125/150\n",
      "42/42 [==============================] - 0s 1ms/step - loss: -4114.6064 - accuracy: 0.7312\n",
      "Epoch 126/150\n",
      "42/42 [==============================] - 0s 1ms/step - loss: -4194.1396 - accuracy: 0.7312\n",
      "Epoch 127/150\n",
      "42/42 [==============================] - 0s 1ms/step - loss: -4276.4463 - accuracy: 0.7312\n",
      "Epoch 128/150\n",
      "42/42 [==============================] - 0s 1ms/step - loss: -4360.6479 - accuracy: 0.7312\n",
      "Epoch 129/150\n",
      "42/42 [==============================] - 0s 1ms/step - loss: -4445.9590 - accuracy: 0.7312\n",
      "Epoch 130/150\n",
      "42/42 [==============================] - 0s 1ms/step - loss: -4532.1816 - accuracy: 0.7312\n",
      "Epoch 131/150\n",
      "42/42 [==============================] - 0s 1ms/step - loss: -4618.4624 - accuracy: 0.7312\n",
      "Epoch 132/150\n",
      "42/42 [==============================] - 0s 1ms/step - loss: -4703.3608 - accuracy: 0.7312\n",
      "Epoch 133/150\n",
      "42/42 [==============================] - 0s 1ms/step - loss: -4790.2241 - accuracy: 0.7312\n",
      "Epoch 134/150\n",
      "42/42 [==============================] - 0s 2ms/step - loss: -4878.8438 - accuracy: 0.7312\n",
      "Epoch 135/150\n",
      "42/42 [==============================] - 0s 2ms/step - loss: -4968.9282 - accuracy: 0.7312\n",
      "Epoch 136/150\n",
      "42/42 [==============================] - 0s 1ms/step - loss: -5059.6689 - accuracy: 0.7312\n",
      "Epoch 137/150\n",
      "42/42 [==============================] - 0s 1ms/step - loss: -5149.2827 - accuracy: 0.7312\n",
      "Epoch 138/150\n",
      "42/42 [==============================] - 0s 1ms/step - loss: -5240.2749 - accuracy: 0.7312\n",
      "Epoch 139/150\n",
      "42/42 [==============================] - 0s 1ms/step - loss: -5331.6221 - accuracy: 0.7312\n",
      "Epoch 140/150\n",
      "42/42 [==============================] - 0s 1ms/step - loss: -5425.5811 - accuracy: 0.7312\n",
      "Epoch 141/150\n",
      "42/42 [==============================] - 0s 1ms/step - loss: -5518.4619 - accuracy: 0.7312\n",
      "Epoch 142/150\n",
      "42/42 [==============================] - 0s 1ms/step - loss: -5616.0767 - accuracy: 0.7312\n",
      "Epoch 143/150\n",
      "42/42 [==============================] - 0s 1ms/step - loss: -5712.0532 - accuracy: 0.7312\n",
      "Epoch 144/150\n",
      "42/42 [==============================] - 0s 1ms/step - loss: -5810.8823 - accuracy: 0.7312\n",
      "Epoch 145/150\n",
      "42/42 [==============================] - 0s 1ms/step - loss: -5910.8638 - accuracy: 0.7312\n",
      "Epoch 146/150\n",
      "42/42 [==============================] - 0s 1ms/step - loss: -6009.4932 - accuracy: 0.7312\n",
      "Epoch 147/150\n",
      "42/42 [==============================] - 0s 1ms/step - loss: -6110.2920 - accuracy: 0.7312\n",
      "Epoch 148/150\n",
      "42/42 [==============================] - 0s 1ms/step - loss: -6208.4775 - accuracy: 0.7312\n",
      "Epoch 149/150\n",
      "42/42 [==============================] - 0s 1ms/step - loss: -6311.8032 - accuracy: 0.7312\n",
      "Epoch 150/150\n",
      "42/42 [==============================] - 0s 1ms/step - loss: -6413.6206 - accuracy: 0.7312\n"
     ]
    },
    {
     "data": {
      "text/plain": [
       "<keras.callbacks.History at 0x2d1bcd02b20>"
      ]
     },
     "execution_count": 30,
     "metadata": {},
     "output_type": "execute_result"
    }
   ],
   "source": [
    "model.fit(x_train, y_train, epochs=150, batch_size=10)"
   ]
  },
  {
   "cell_type": "code",
   "execution_count": 31,
   "id": "789c2cac",
   "metadata": {
    "ExecuteTime": {
     "end_time": "2022-11-16T06:17:56.907942Z",
     "start_time": "2022-11-16T06:17:56.571628Z"
    }
   },
   "outputs": [
    {
     "name": "stdout",
     "output_type": "stream",
     "text": [
      "13/13 [==============================] - 0s 1ms/step - loss: -6468.9580 - accuracy: 0.7312\n",
      "Accuracy: 73.12\n"
     ]
    }
   ],
   "source": [
    "_, accuracy = model.evaluate(x_train, y_train)\n",
    "print('Accuracy: %.2f' % (accuracy*100))"
   ]
  },
  {
   "cell_type": "code",
   "execution_count": 35,
   "id": "09b8c003",
   "metadata": {
    "ExecuteTime": {
     "end_time": "2022-11-16T06:22:34.215285Z",
     "start_time": "2022-11-16T06:22:33.944866Z"
    }
   },
   "outputs": [
    {
     "name": "stdout",
     "output_type": "stream",
     "text": [
      "13/13 [==============================] - 0s 1ms/step\n"
     ]
    }
   ],
   "source": [
    "##OUTCOME\n",
    "predictions = model.predict(x_train) "
   ]
  },
  {
   "cell_type": "code",
   "execution_count": 36,
   "id": "15fc57ab",
   "metadata": {
    "ExecuteTime": {
     "end_time": "2022-11-16T06:22:57.198736Z",
     "start_time": "2022-11-16T06:22:57.191185Z"
    }
   },
   "outputs": [
    {
     "name": "stdout",
     "output_type": "stream",
     "text": [
      "[86.2, 26.2, 94.3, 5.1, 8.2, 51.0, 6.7, 0.0, 0.0, 1.0, 0.0, 0.0, 0.0, 0.0, 0.0, 0.0, 0.0, 0.0, 0.0, 0.0, 0.0, 0.0, 0.0, 1.0, 0.0, 0.0, 0.0, 0.0] => 1 (expected 1)\n",
      "[90.6, 35.4, 669.1, 6.7, 18.0, 33.0, 0.9, 0.0, 0.0, 0.0, 0.0, 0.0, 0.0, 0.0, 1.0, 0.0, 0.0, 0.0, 0.0, 0.0, 0.0, 0.0, 0.0, 0.0, 0.0, 0.0, 1.0, 0.0] => 1 (expected 1)\n",
      "[90.6, 43.7, 686.9, 6.7, 14.6, 33.0, 1.3, 0.0, 0.0, 0.0, 0.0, 1.0, 0.0, 0.0, 0.0, 0.0, 0.0, 0.0, 0.0, 0.0, 0.0, 0.0, 0.0, 0.0, 0.0, 0.0, 1.0, 0.0] => 1 (expected 1)\n",
      "[91.7, 33.3, 77.5, 9.0, 8.3, 97.0, 4.0, 0.2, 0.0, 1.0, 0.0, 0.0, 0.0, 0.0, 0.0, 0.0, 0.0, 0.0, 0.0, 0.0, 0.0, 0.0, 0.0, 1.0, 0.0, 0.0, 0.0, 0.0] => 1 (expected 1)\n",
      "[89.3, 51.3, 102.2, 9.6, 11.4, 99.0, 1.8, 0.0, 0.0, 0.0, 0.0, 0.0, 1.0, 0.0, 0.0, 0.0, 0.0, 0.0, 0.0, 0.0, 0.0, 0.0, 0.0, 1.0, 0.0, 0.0, 0.0, 0.0] => 1 (expected 1)\n"
     ]
    }
   ],
   "source": [
    "for i in range(5):\n",
    "    print('%s => %d (expected %d)' % (X[i].tolist(), predictions[i], y[i]))"
   ]
  },
  {
   "cell_type": "code",
   "execution_count": null,
   "id": "54bc971f",
   "metadata": {},
   "outputs": [],
   "source": []
  },
  {
   "cell_type": "code",
   "execution_count": null,
   "id": "e4c0c738",
   "metadata": {},
   "outputs": [],
   "source": []
  },
  {
   "cell_type": "code",
   "execution_count": null,
   "id": "441a0ede",
   "metadata": {},
   "outputs": [],
   "source": []
  },
  {
   "cell_type": "code",
   "execution_count": null,
   "id": "dcdb8cd7",
   "metadata": {},
   "outputs": [],
   "source": []
  },
  {
   "cell_type": "code",
   "execution_count": null,
   "id": "768753d9",
   "metadata": {},
   "outputs": [],
   "source": []
  },
  {
   "cell_type": "code",
   "execution_count": null,
   "id": "3cbb2972",
   "metadata": {},
   "outputs": [],
   "source": []
  },
  {
   "cell_type": "code",
   "execution_count": null,
   "id": "e5af2956",
   "metadata": {},
   "outputs": [],
   "source": []
  },
  {
   "cell_type": "code",
   "execution_count": null,
   "id": "150d10bb",
   "metadata": {},
   "outputs": [],
   "source": []
  },
  {
   "cell_type": "code",
   "execution_count": null,
   "id": "09283428",
   "metadata": {},
   "outputs": [],
   "source": []
  },
  {
   "cell_type": "code",
   "execution_count": null,
   "id": "9024fee2",
   "metadata": {},
   "outputs": [],
   "source": []
  },
  {
   "cell_type": "code",
   "execution_count": null,
   "id": "8247af06",
   "metadata": {},
   "outputs": [],
   "source": []
  },
  {
   "cell_type": "code",
   "execution_count": null,
   "id": "773573dd",
   "metadata": {},
   "outputs": [],
   "source": []
  },
  {
   "cell_type": "code",
   "execution_count": null,
   "id": "5e50e96f",
   "metadata": {},
   "outputs": [],
   "source": []
  },
  {
   "cell_type": "code",
   "execution_count": null,
   "id": "21ccacb9",
   "metadata": {},
   "outputs": [],
   "source": []
  }
 ],
 "metadata": {
  "kernelspec": {
   "display_name": "Python 3 (ipykernel)",
   "language": "python",
   "name": "python3"
  },
  "language_info": {
   "codemirror_mode": {
    "name": "ipython",
    "version": 3
   },
   "file_extension": ".py",
   "mimetype": "text/x-python",
   "name": "python",
   "nbconvert_exporter": "python",
   "pygments_lexer": "ipython3",
   "version": "3.9.12"
  }
 },
 "nbformat": 4,
 "nbformat_minor": 5
}
